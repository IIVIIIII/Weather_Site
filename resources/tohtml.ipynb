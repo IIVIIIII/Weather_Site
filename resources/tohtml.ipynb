{
 "cells": [
  {
   "cell_type": "code",
   "execution_count": 2,
   "metadata": {},
   "outputs": [],
   "source": [
    "# Import Dependencies\n",
    "import pandas as pd"
   ]
  },
  {
   "cell_type": "code",
   "execution_count": 3,
   "metadata": {},
   "outputs": [
    {
     "output_type": "execute_result",
     "data": {
      "text/plain": [
       "          City Hemisphere  Latitude  Longitude  Temperature(F)  Humidity(%)  \\\n",
       "0      Talnakh   northern   69.4865    88.3972          -11.09           88   \n",
       "1  Tuktoyaktuk   northern   69.4541  -133.0374          -38.20           67   \n",
       "2       Albany   northern   42.6001   -73.9662           26.38           87   \n",
       "3     Tateyama   northern   34.9833   139.8667           37.00           40   \n",
       "4   Nouadhibou   northern   20.9310   -17.0347           66.20           77   \n",
       "\n",
       "   Cloudiness(%)  Wind Speed(mph)  \n",
       "0            100             2.53  \n",
       "1             20             9.22  \n",
       "2            100             3.06  \n",
       "3             50             3.00  \n",
       "4              0            17.27  "
      ],
      "text/html": "<div>\n<style scoped>\n    .dataframe tbody tr th:only-of-type {\n        vertical-align: middle;\n    }\n\n    .dataframe tbody tr th {\n        vertical-align: top;\n    }\n\n    .dataframe thead th {\n        text-align: right;\n    }\n</style>\n<table border=\"1\" class=\"dataframe\">\n  <thead>\n    <tr style=\"text-align: right;\">\n      <th></th>\n      <th>City</th>\n      <th>Hemisphere</th>\n      <th>Latitude</th>\n      <th>Longitude</th>\n      <th>Temperature(F)</th>\n      <th>Humidity(%)</th>\n      <th>Cloudiness(%)</th>\n      <th>Wind Speed(mph)</th>\n    </tr>\n  </thead>\n  <tbody>\n    <tr>\n      <th>0</th>\n      <td>Talnakh</td>\n      <td>northern</td>\n      <td>69.4865</td>\n      <td>88.3972</td>\n      <td>-11.09</td>\n      <td>88</td>\n      <td>100</td>\n      <td>2.53</td>\n    </tr>\n    <tr>\n      <th>1</th>\n      <td>Tuktoyaktuk</td>\n      <td>northern</td>\n      <td>69.4541</td>\n      <td>-133.0374</td>\n      <td>-38.20</td>\n      <td>67</td>\n      <td>20</td>\n      <td>9.22</td>\n    </tr>\n    <tr>\n      <th>2</th>\n      <td>Albany</td>\n      <td>northern</td>\n      <td>42.6001</td>\n      <td>-73.9662</td>\n      <td>26.38</td>\n      <td>87</td>\n      <td>100</td>\n      <td>3.06</td>\n    </tr>\n    <tr>\n      <th>3</th>\n      <td>Tateyama</td>\n      <td>northern</td>\n      <td>34.9833</td>\n      <td>139.8667</td>\n      <td>37.00</td>\n      <td>40</td>\n      <td>50</td>\n      <td>3.00</td>\n    </tr>\n    <tr>\n      <th>4</th>\n      <td>Nouadhibou</td>\n      <td>northern</td>\n      <td>20.9310</td>\n      <td>-17.0347</td>\n      <td>66.20</td>\n      <td>77</td>\n      <td>0</td>\n      <td>17.27</td>\n    </tr>\n  </tbody>\n</table>\n</div>"
     },
     "metadata": {},
     "execution_count": 3
    }
   ],
   "source": [
    "csv_path = \"weather.csv\"\n",
    "weather_df = pd.read_csv(csv_path)\n",
    "weather_df.head()"
   ]
  },
  {
   "cell_type": "code",
   "execution_count": 4,
   "metadata": {},
   "outputs": [],
   "source": [
    "weather_df.to_html(\"weather.html\")"
   ]
  },
  {
   "cell_type": "code",
   "execution_count": null,
   "metadata": {},
   "outputs": [],
   "source": []
  }
 ],
 "metadata": {
  "kernelspec": {
   "display_name": "Python 3",
   "language": "python",
   "name": "python3"
  },
  "language_info": {
   "codemirror_mode": {
    "name": "ipython",
    "version": 3
   },
   "file_extension": ".py",
   "mimetype": "text/x-python",
   "name": "python",
   "nbconvert_exporter": "python",
   "pygments_lexer": "ipython3",
   "version": "3.8.5-final"
  }
 },
 "nbformat": 4,
 "nbformat_minor": 2
}